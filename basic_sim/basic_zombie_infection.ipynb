{
 "cells": [
  {
   "cell_type": "code",
   "execution_count": 8,
   "id": "3517f189",
   "metadata": {},
   "outputs": [
    {
     "name": "stdout",
     "output_type": "stream",
     "text": [
      "Using matplotlib backend: Qt5Agg\n",
      "Populating the interactive namespace from numpy and matplotlib\n",
      "Done\n"
     ]
    }
   ],
   "source": [
    "import matplotlib.pyplot as plt\n",
    "import numpy as np\n",
    "\n",
    "%reload_ext autoreload\n",
    "%autoreload 2\n",
    "%pylab\n",
    "%matplotlib inline\n",
    "\n",
    "from IPython.display import display, clear_output\n",
    "\n",
    "from zombie_model import human, zombie, alpacalypse\n",
    "\n",
    "my_alpaca = alpacalypse(width = 200 , height = 200)\n",
    "\n",
    "np.random.seed(123456789)\n",
    "\n",
    "# Create the universe with a list of particles\n",
    "for p in range(200):\n",
    "    my_alpaca.humans.append(\n",
    "        human()\n",
    "    )\n",
    "\n",
    "    my_alpaca.zombies.append(\n",
    "        zombie()\n",
    "    )\n",
    "\n",
    "# Group both sets of particles in one list. You will see later how this is useful.\n",
    "my_alpaca._all_entities = [*my_alpaca.humans, *my_alpaca.zombies]\n",
    "\n",
    "print(\"Done\")"
   ]
  },
  {
   "cell_type": "code",
   "execution_count": null,
   "id": "ee650c93",
   "metadata": {},
   "outputs": [],
   "source": [
    "for hum in my_uni.humans:\n",
    "    hum.place_at([np.random.randint(low = 0, high = my_alpaca.width),np.random.randint(low = 0, high = my_uni.height)])\n",
    "    \n",
    "for bos in my_uni.bosons:\n",
    "    bos.place_at([np.random.randint(low = 0, high = my_uni.width),np.random.randint(low = 0, high = my_uni.height)])\n",
    "my_uni.draw()"
   ]
  }
 ],
 "metadata": {
  "kernelspec": {
   "display_name": "Python 3 (ipykernel)",
   "language": "python",
   "name": "python3"
  },
  "language_info": {
   "codemirror_mode": {
    "name": "ipython",
    "version": 3
   },
   "file_extension": ".py",
   "mimetype": "text/x-python",
   "name": "python",
   "nbconvert_exporter": "python",
   "pygments_lexer": "ipython3",
   "version": "3.8.11"
  }
 },
 "nbformat": 4,
 "nbformat_minor": 5
}
