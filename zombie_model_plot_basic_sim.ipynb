{
 "cells": [
  {
   "cell_type": "code",
   "execution_count": null,
   "metadata": {},
   "outputs": [],
   "source": [
    "#plottting code for basic simulation graph \n",
    "#get code from different scenarios and then plot them"
   ]
  },
  {
   "cell_type": "code",
   "execution_count": null,
   "metadata": {},
   "outputs": [],
   "source": [
    "import matplotlib.pyplot as plt\n",
    "import numpy as np\n",
    "import import_ipynb\n",
    "%reload_ext autoreload\n",
    "%autoreload 2\n",
    "%pylab\n",
    "%matplotlib inline\n",
    "\n",
    "from IPython.display import display, clear_output\n",
    "\n",
    "from zombie_model import human, zombie, alpacalypse\n",
    "\n",
    "my_alpaca = alpacalypse(width = 200 , height = 200)\n",
    "\n",
    "np.random.seed(123456789)\n",
    "\n",
    "# Create the universe with a list of particles\n",
    "for p in range(200):\n",
    "    my_alpaca.humans.append(\n",
    "        human()\n",
    "    )\n",
    "\n",
    "    my_alpaca.zombies.append(\n",
    "        zombie()\n",
    "    )\n",
    "\n",
    "# Group both sets of particles in one list. You will see later how this is useful.\n",
    "my_alpaca._all_entities = [*my_alpaca.humans, *my_alpaca.zombies]\n",
    "\n",
    "print(\"Done\")\n",
    "\n",
    "for hum in my_alpaca.humans:\n",
    "    hum.place_at([np.random.randint(low = 0, high = my_alpaca.width),np.random.randint(low = 0, high = my_alpaca.height)])\n",
    "    \n",
    "for zom in my_alpaca.zombies:\n",
    "    zom.place_at([np.random.randint(low = 0, high = my_alpaca.width),np.random.randint(low = 0, high = my_alpaca.height)])\n",
    "my_alpaca.draw()"
   ]
  },
  {
   "cell_type": "code",
   "execution_count": null,
   "metadata": {},
   "outputs": [],
   "source": [
    "fig, ax = plt.subplots(figsize = (10,10))\n",
    "\n",
    "start = time.time()\n",
    "times = []\n",
    "\n",
    "for i in range(100):\n",
    "    \n",
    "    # RUN YOUR ABM\n",
    "    my_alpaca.evolve()\n",
    "    my_alpaca.draw()\n",
    "    \n",
    "    # Animation part: Comment this part if you want it to go faster\n",
    "    plt.title(f\"Time = {i}\")\n",
    "    clear_output(wait=True) # Clear output for dynamic display\n",
    "    display(fig)            # Reset display\n",
    "    fig.clear()             # Prevent overlapping and layered plots\n",
    "        \n",
    "    end = time.time()\n",
    "    times.append(end-start)\n",
    "    \n",
    "print(\"Total time =\", end-start)    \n",
    "print(times)\n"
   ]
  },
  {
   "cell_type": "code",
   "execution_count": null,
   "metadata": {},
   "outputs": [],
   "source": [
    "# got a bit of an odd discrepancy with the \n",
    "print(\"The number of humans to be turned into zombies was\",200 - len(my_alpaca.humans))\n",
    "print(\"The number of zombies that were created was\",len(my_alpaca.zombies)-200)"
   ]
  },
  {
   "cell_type": "code",
   "execution_count": null,
   "metadata": {},
   "outputs": [],
   "source": [
    "# import packages\n",
    "from statistics import mean, stdev\n",
    "import matplotlib.pyplot as plt\n",
    "#base simulation plot\n",
    "%matplotlib inline\n",
    "\n",
    "#plot for the basic simulation\n",
    "plt.bar(['Humans Turned Zombies', 'Zombies Created'], [200 - len(my_alpaca.humans), len(my_alpaca.zombies)-200])\n",
    "plt.xlabel('Type of Interaction')\n",
    "plt.ylabel('Amount')\n",
    "plt.title('Basic Simulation')\n",
    "plt.show()"
   ]
  }
 ],
 "metadata": {
  "kernelspec": {
   "display_name": "Python 3",
   "language": "python",
   "name": "python3"
  },
  "language_info": {
   "codemirror_mode": {
    "name": "ipython",
    "version": 3
   },
   "file_extension": ".py",
   "mimetype": "text/x-python",
   "name": "python",
   "nbconvert_exporter": "python",
   "pygments_lexer": "ipython3",
   "version": "3.8.3"
  }
 },
 "nbformat": 4,
 "nbformat_minor": 4
}
