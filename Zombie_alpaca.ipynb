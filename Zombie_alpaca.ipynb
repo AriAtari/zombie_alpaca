{
 "cells": [
  {
   "attachments": {},
   "cell_type": "markdown",
   "id": "ba3c3777",
   "metadata": {},
   "source": [
    "<img src=\"https://res.cloudinary.com/teepublic/image/private/s--vLk0MTVa--/t_Resized%20Artwork/c_fit,g_north_west,h_954,w_954/co_000000,e_outline:48/co_000000,e_outline:inner_fill:48/co_ffffff,e_outline:48/co_ffffff,e_outline:inner_fill:48/co_bbbbbb,e_outline:3:1000/c_mpad,g_center,h_1260,w_1260/b_rgb:eeeeee/c_limit,f_auto,h_630,q_90,w_630/v1537795965/production/designs/3204818_0.jpg\" alt=\"Drawing\" style=\"width: 200px;\"/>\n",
    "\n",
    "##### credit : https://www.teepublic.com/user/dr_squirrel\n",
    "\n",
    "## Zombie alpca \n",
    "### Collaborators: Arian Andalib, Elias Taira, Xiaoyanbin Cai, Caroline VanDenBrouck, Noah De Guzman"
   ]
  },
  {
   "cell_type": "code",
   "execution_count": null,
   "id": "fbbadc77",
   "metadata": {},
   "outputs": [],
   "source": []
  }
 ],
 "metadata": {
  "kernelspec": {
   "display_name": "Python 3",
   "language": "python",
   "name": "python3"
  },
  "language_info": {
   "codemirror_mode": {
    "name": "ipython",
    "version": 3
   },
   "file_extension": ".py",
   "mimetype": "text/x-python",
   "name": "python",
   "nbconvert_exporter": "python",
   "pygments_lexer": "ipython3",
   "version": "3.8.8"
  }
 },
 "nbformat": 4,
 "nbformat_minor": 5
}
