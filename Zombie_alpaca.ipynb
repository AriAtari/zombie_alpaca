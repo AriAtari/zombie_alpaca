{
 "cells": [
  {
   "attachments": {},
   "cell_type": "markdown",
   "id": "61963306",
   "metadata": {},
   "source": [
    "<img src=\"https://res.cloudinary.com/teepublic/image/private/s--vLk0MTVa--/t_Resized%20Artwork/c_fit,g_north_west,h_954,w_954/co_000000,e_outline:48/co_000000,e_outline:inner_fill:48/co_ffffff,e_outline:48/co_ffffff,e_outline:inner_fill:48/co_bbbbbb,e_outline:3:1000/c_mpad,g_center,h_1260,w_1260/b_rgb:eeeeee/c_limit,f_auto,h_630,q_90,w_630/v1537795965/production/designs/3204818_0.jpg\" alt=\"Drawing\" style=\"width: 200px; Float: right\"/>(\"credit : https://www.teepublic.com/user/dr_squirrel\")\n",
    "\n",
    "\n",
    "## Zombie alpca \n",
    "### Collaborators: Arian Andalib, Elias Taira, Xiaoyanbin Cai,  <br>   Caroline VanDenBrouck,  Noah De Guzman"
   ]
  },
  {
   "cell_type": "markdown",
   "id": "08d2dd5d",
   "metadata": {},
   "source": [
    "### Introduction\n",
    "#### This is a simulation that regards the interaction of zombies vs humans. We will try to have zombies interact with humans. The humans gaining the ability to fight back. The humans getting the abilty to train to improve the chances of winning. We will plot the results of how diffrent change affect the simulation. \n",
    "\n",
    "### Disclousure: This is not a guide on how to survive the zombie apocolypse!!! Good night and Good luck. "
   ]
  },
  {
   "cell_type": "markdown",
   "id": "bfb67ccb",
   "metadata": {},
   "source": [
    "### Basic simulation\n",
    "#### This involves zombies interacting with humans."
   ]
  },
  {
   "cell_type": "markdown",
   "id": "18839ab7",
   "metadata": {},
   "source": [
    "### Ability to smell humans\n",
    "#### The zombies have better path finding implements the ants smell in the zombie simulation/"
   ]
  },
  {
   "cell_type": "markdown",
   "id": "478f64db",
   "metadata": {},
   "source": [
    "### Ability to fight back\n",
    "#### implement a way for the humans to kill the zombies. Think of your own way but one way might be through random chance."
   ]
  },
  {
   "cell_type": "markdown",
   "id": "b3db85a8",
   "metadata": {},
   "source": [
    "### Ability to train\n",
    "#### The humans can  train and improve their chances of fighting a zombie."
   ]
  },
  {
   "cell_type": "markdown",
   "id": "55a5537a",
   "metadata": {},
   "source": [
    "### Plotting the implements\n",
    "#### Plot each version we have made above for number of zombies vs humans "
   ]
  },
  {
   "cell_type": "markdown",
   "id": "3ae74636",
   "metadata": {},
   "source": [
    "### conclusions\n",
    "#### What do the plots show? What are the patterns? Is there any way to shift these parameters."
   ]
  },
  {
   "cell_type": "markdown",
   "id": "e701f14a",
   "metadata": {},
   "source": [
    "## Extra-Credit (time applicable)"
   ]
  },
  {
   "cell_type": "markdown",
   "id": "65dd478c",
   "metadata": {},
   "source": [
    "### The zombies evolve\n",
    "#### Zombies evolve by after n iterations  the probailty to get a human changes."
   ]
  },
  {
   "cell_type": "markdown",
   "id": "03dd97cb",
   "metadata": {},
   "source": [
    "### Getting weapons\n",
    "#### implement weapons that increase the chance of success. This maybe by random chance to find a weapon."
   ]
  },
  {
   "cell_type": "markdown",
   "id": "1a86e9f1",
   "metadata": {},
   "source": [
    "### The pacifist\n",
    "#### Heal zombies the zombies and turn them back."
   ]
  }
 ],
 "metadata": {
  "kernelspec": {
   "display_name": "Python 3",
   "language": "python",
   "name": "python3"
  },
  "language_info": {
   "codemirror_mode": {
    "name": "ipython",
    "version": 3
   },
   "file_extension": ".py",
   "mimetype": "text/x-python",
   "name": "python",
   "nbconvert_exporter": "python",
   "pygments_lexer": "ipython3",
   "version": "3.8.8"
  }
 },
 "nbformat": 4,
 "nbformat_minor": 5
}
