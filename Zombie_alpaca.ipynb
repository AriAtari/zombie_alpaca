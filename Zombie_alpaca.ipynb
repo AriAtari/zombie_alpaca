{
 "cells": [
  {
   "cell_type": "markdown",
   "id": "61963306",
   "metadata": {},
   "source": [
    "<img src=\"https://res.cloudinary.com/teepublic/image/private/s--vLk0MTVa--/t_Resized%20Artwork/c_fit,g_north_west,h_954,w_954/co_000000,e_outline:48/co_000000,e_outline:inner_fill:48/co_ffffff,e_outline:48/co_ffffff,e_outline:inner_fill:48/co_bbbbbb,e_outline:3:1000/c_mpad,g_center,h_1260,w_1260/b_rgb:eeeeee/c_limit,f_auto,h_630,q_90,w_630/v1537795965/production/designs/3204818_0.jpg\" alt=\"Drawing\" style=\"width: 200px; Float: right\"/>(\"credit : https://www.teepublic.com/user/dr_squirrel\")\n",
    "\n",
    "\n",
    "## Zombie alpca \n",
    "### Collaborators: Arian Andalib, Elias Taira, Xiaoyanbin Cai,  <br>   Caroline VanDenBrouck,  Noah De Guzman"
   ]
  },
  {
   "cell_type": "markdown",
   "id": "08d2dd5d",
   "metadata": {},
   "source": [
    "### Introduction\n",
    "#### This is a simulation that regards the interaction of zombies vs humans. We will try to have zombies interact with humans. The humans gaining the ability to fight back. The humans getting the abilty to train to improve the chances of winning. We will plot the results of how diffrent change affect the simulation. \n",
    "\n",
    "### Disclousure: This is not a guide on how to survive the zombie apocolypse!!! Good night and Good luck. "
   ]
  },
  {
   "cell_type": "markdown",
   "id": "bfb67ccb",
   "metadata": {},
   "source": [
    "### Basic simulation"
   ]
  },
  {
   "cell_type": "code",
   "execution_count": 4,
   "id": "13384ed0",
   "metadata": {},
   "outputs": [
    {
     "name": "stdout",
     "output_type": "stream",
     "text": [
      "Using matplotlib backend: Qt5Agg\n",
      "Populating the interactive namespace from numpy and matplotlib\n"
     ]
    }
   ],
   "source": [
    "# importing necessary libraries and classes\n",
    "import matplotlib.pyplot as plt\n",
    "import numpy as np\n",
    "\n",
    "%reload_ext autoreload\n",
    "%autoreload 2\n",
    "%pylab\n",
    "%matplotlib inline\n",
    "\n",
    "from IPython.display import display, clear_output\n",
    "\n",
    "from zombie_model_base import human, zombie, alpacalypse"
   ]
  },
  {
   "cell_type": "markdown",
   "id": "c4b67b76",
   "metadata": {},
   "source": [
    "The following is a basic simulation that simply adapts our 'standard_model.py' code into a zombie apocalypse model. There are no real special behaviors in the humans or the zombies. They merely randomly wander around at similar speeds and if they interact one another, the human becomes a zombie.\n",
    "\n",
    "Check 'zombie_model.py' for more specifics on how each of the functions work and how one might add other behaviors to the model"
   ]
  },
  {
   "cell_type": "code",
   "execution_count": 5,
   "id": "b30398b9",
   "metadata": {},
   "outputs": [
    {
     "name": "stdout",
     "output_type": "stream",
     "text": [
      "Done\n"
     ]
    }
   ],
   "source": [
    "my_alpaca = alpacalypse(width = 200 , height = 200) # initializing apocolypse class\n",
    "\n",
    "np.random.seed(123456789)\n",
    "\n",
    "# Initializing a bunch of humans and zombies\n",
    "for p in range(200):\n",
    "    my_alpaca.humans.append(\n",
    "        human()\n",
    "    )\n",
    "\n",
    "    my_alpaca.zombies.append(\n",
    "        zombie()\n",
    "    )\n",
    "\n",
    "# Group both sets of entities in one list\n",
    "my_alpaca._all_entities = [*my_alpaca.humans, *my_alpaca.zombies]\n",
    "\n",
    "print(\"Done\")"
   ]
  },
  {
   "cell_type": "code",
   "execution_count": 6,
   "id": "9f71e838",
   "metadata": {},
   "outputs": [
    {
     "data": {
      "image/png": "[encoded data removed]",
      "text/plain": [
       "<Figure size 432x288 with 1 Axes>"
      ]
     },
     "metadata": {
      "needs_background": "light"
     },
     "output_type": "display_data"
    }
   ],
   "source": [
    "# Testing to see if the '.place_at' and '.draw()'functions work\n",
    "\n",
    "for hum in my_alpaca.humans:\n",
    "    hum.place_at([np.random.randint(low = 0, high = my_alpaca.width),np.random.randint(low = 0, high = my_alpaca.height)])\n",
    "    \n",
    "for zom in my_alpaca.zombies:\n",
    "    zom.place_at([np.random.randint(low = 0, high = my_alpaca.width),np.random.randint(low = 0, high = my_alpaca.height)])\n",
    "my_alpaca.draw()"
   ]
  },
  {
   "cell_type": "code",
   "execution_count": null,
   "id": "ba2f1a3f",
   "metadata": {},
   "outputs": [],
   "source": [
    "# Using the animation code from HW2\n",
    "\n",
    "fig, ax = plt.subplots(figsize = (10,10))\n",
    "\n",
    "start = time.time()\n",
    "times = []\n",
    "\n",
    "for i in range(100):\n",
    "    \n",
    "    # RUN YOUR ABM\n",
    "    my_alpaca.evolve()\n",
    "    my_alpaca.draw()\n",
    "    \n",
    "    # same animation code we used in hw2\n",
    "    plt.title(f\"Time = {i}\")\n",
    "    clear_output(wait=True) \n",
    "    display(fig)            \n",
    "    fig.clear()             \n",
    "        \n",
    "    end = time.time()\n",
    "    times.append(end-start)\n",
    "    \n",
    "print(\"Total time =\", end-start)    "
   ]
  },
  {
   "cell_type": "code",
   "execution_count": null,
   "id": "2f910a3e",
   "metadata": {},
   "outputs": [],
   "source": [
    "# Sometimes I get a bit of an odd discrepancy between the number of infected zombies and the number of created zombies\n",
    "print(\"The number of humans to be turned into zombies was\",200 - len(my_alpaca.humans))\n",
    "print(\"The number of zombies that were created was\",len(my_alpaca.zombies)-200)"
   ]
  },
  {
   "cell_type": "markdown",
   "id": "18839ab7",
   "metadata": {},
   "source": [
    "### Ability to smell humans\n",
    "#### The zombies have better path finding implements the ants smell in the zombie simulation/"
   ]
  },
  {
   "cell_type": "markdown",
   "id": "478f64db",
   "metadata": {},
   "source": [
    "### Ability to fight back and tain\n",
    "#### Humans have a set chance of surviving a zombie attack by killing the zombie\n",
    "#### After each zombie attack a human will improve their chances of survival"
   ]
  },
  {
   "cell_type": "code",
   "execution_count": 13,
   "id": "b9bb3548",
   "metadata": {},
   "outputs": [
    {
     "name": "stdout",
     "output_type": "stream",
     "text": [
      "Using matplotlib backend: Qt5Agg\n",
      "Populating the interactive namespace from numpy and matplotlib\n",
      "Done\n"
     ]
    }
   ],
   "source": [
    "%reload_ext autoreload\n",
    "%autoreload 2\n",
    "%pylab\n",
    "%matplotlib inline\n",
    "\n",
    "from IPython.display import display, clear_output\n",
    "\n",
    "from zombie_model import human, zombie, alpacalypse # importing necessary classes\n",
    "\n",
    "my_alpaca = alpacalypse(width = 200 , height = 200) # initializing apocolypse class\n",
    "\n",
    "np.random.seed(123456789)\n",
    "\n",
    "# Initializing a bunch of humans and zombies\n",
    "for p in range(200):\n",
    "    my_alpaca.humans.append(\n",
    "        human()\n",
    "    )\n",
    "\n",
    "    my_alpaca.zombies.append(\n",
    "        zombie()\n",
    "    )\n",
    "\n",
    "# Group both sets of entities in one list\n",
    "my_alpaca._all_entities = [*my_alpaca.humans, *my_alpaca.zombies]\n",
    "\n",
    "print(\"Done\")\n",
    "\n",
    "for hum in my_alpaca.humans:\n",
    "    hum.place_at([np.random.randint(low = 0, high = my_alpaca.width),np.random.randint(low = 0, high = my_alpaca.height)])\n",
    "    \n",
    "for zom in my_alpaca.zombies:\n",
    "    zom.place_at([np.random.randint(low = 0, high = my_alpaca.width),np.random.randint(low = 0, high = my_alpaca.height)])"
   ]
  },
  {
   "cell_type": "code",
   "execution_count": null,
   "id": "bb05148b",
   "metadata": {},
   "outputs": [
    {
     "data": {
      "image/png": "[encoded data removed]",
      "text/plain": [
       "<Figure size 720x720 with 1 Axes>"
      ]
     },
     "metadata": {},
     "output_type": "display_data"
    }
   ],
   "source": [
    "fig, ax = plt.subplots(figsize = (10,10))\n",
    "\n",
    "start = time.time()\n",
    "times = []\n",
    "\n",
    "for i in range(100):\n",
    "    \n",
    "    # RUN YOUR ABM\n",
    "    my_alpaca.evolve()\n",
    "    my_alpaca.draw()\n",
    "    \n",
    "    # same animation code we used in hw2\n",
    "    plt.title(f\"Time = {i}\")\n",
    "    clear_output(wait=True) \n",
    "    display(fig)            \n",
    "    fig.clear()             \n",
    "        \n",
    "    end = time.time()\n",
    "    times.append(end-start)\n",
    "    \n",
    "print(\"Total time =\", end-start)"
   ]
  },
  {
   "cell_type": "code",
   "execution_count": null,
   "id": "a0d5620e",
   "metadata": {},
   "outputs": [],
   "source": [
    "print(\"The number of humans to be turned into zombies was\",200 - len(my_alpaca.humans))\n",
    "print(\"The number of zombies that were created was\",len(my_alpaca.zombies)-200)"
   ]
  },
  {
   "cell_type": "markdown",
   "id": "55a5537a",
   "metadata": {},
   "source": [
    "### Plotting the implements\n",
    "#### Plot each version we have made above for number of zombies vs humans "
   ]
  },
  {
   "cell_type": "markdown",
   "id": "3ae74636",
   "metadata": {},
   "source": [
    "### conclusions\n",
    "#### What do the plots show? What are the patterns? Is there any way to shift these parameters."
   ]
  },
  {
   "cell_type": "markdown",
   "id": "e701f14a",
   "metadata": {},
   "source": [
    "## Extra-Credit (time applicable)"
   ]
  },
  {
   "cell_type": "markdown",
   "id": "65dd478c",
   "metadata": {},
   "source": [
    "### The zombies evolve\n",
    "#### Zombies evolve by after n iterations  the probailty to get a human changes."
   ]
  },
  {
   "cell_type": "markdown",
   "id": "03dd97cb",
   "metadata": {},
   "source": [
    "### Getting weapons\n",
    "#### implement weapons that increase the chance of success. This maybe by random chance to find a weapon."
   ]
  },
  {
   "cell_type": "markdown",
   "id": "1a86e9f1",
   "metadata": {},
   "source": [
    "### The pacifist\n",
    "#### Heal zombies the zombies and turn them back."
   ]
  }
 ],
 "metadata": {
  "kernelspec": {
   "display_name": "Python 3 (ipykernel)",
   "language": "python",
   "name": "python3"
  },
  "language_info": {
   "codemirror_mode": {
    "name": "ipython",
    "version": 3
   },
   "file_extension": ".py",
   "mimetype": "text/x-python",
   "name": "python",
   "nbconvert_exporter": "python",
   "pygments_lexer": "ipython3",
   "version": "3.8.11"
  }
 },
 "nbformat": 4,
 "nbformat_minor": 5
}
